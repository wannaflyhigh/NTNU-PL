{
 "cells": [
  {
   "cell_type": "code",
   "execution_count": 9,
   "metadata": {},
   "outputs": [
    {
     "name": "stdout",
     "output_type": "stream",
     "text": [
      "{'acadm_term': '1', 'acadm_year': '111', 'authorize_p': '15', 'authorize_r': '0.50', 'authorize_using': '', 'brief_eng': '', 'cancel': '', 'chn_name': '能源與動力 </br>[ 學分學程：太陽能源與工程學程 ]', 'class_name': '', 'classes': '', 'comment': '師資生優先選課', 'counter': '41', 'counter_exceptAuth': '30', 'course_avg': '', 'course_code': 'ITU0017', 'course_group': '', 'course_kind': '半', 'credit': '3.0', 'deleteQ': '', 'dept_chiabbr': '科技系（學）', 'dept_code': 'HU71', 'dept_engfull': '', 'dept_group': '', 'dept_group_name': '', 'eng_name': 'Energy and Power </br>[ Program: The Program of Solar Energy Engineering ]', 'eng_teach': '', 'exp_hours': '', 'fillcounter': '', 'for_query': '', 'form_s': '', 'form_s_name': '', 'full_flag': '', 'gender_restrict': '', 'hours': '', 'iCounter': '', 'intensive': '', 'limit': '0', 'limit_count_h': '30', 'moocs_teach': '', 'not_choose': '', 'option_code': '選', 'percentage': '', 'restrict': '', 'rt': 'N', 'school_avg': '', 'scoreEnt': '', 'selfTeach': '', 'selfTeachName': '', 'send_time': '', 'serial_no': '1205', 'status': '', 'tcode': '', 'teacher': '程金保', 'time_inf': '二 2-4 本部 科技系TB211', 'tname': '', 'week_section1': '', 'week_section2': '', 'week_section3': '', 'week_section4': ''}\n"
     ]
    }
   ],
   "source": [
    "# 比較科技111-1和110-1課程差異\n",
    "\n",
    "import pandas as pd\n",
    "\n",
    "courses1=pd.read_json('https://courseap2.itc.ntnu.edu.tw/acadmOpenCourse/CofopdlCtrl?_dc=1664349523426&acadmYear=111&acadmTerm=1&chn=&engTeach=N&moocs=N&remoteCourse=N&digital=N&adsl=N&deptCode=HU71&zuDept=&classCode=&kind=&generalCore=&teacher=&serial_number=&course_code=&language=chinese&action=showGrid&start=0&limit=99999&page=1')\n",
    "\n",
    "courses2=pd.read_json('https://courseap2.itc.ntnu.edu.tw/acadmOpenCourse/CofopdlCtrl?_dc=1664349523426&acadmYear=110&acadmTerm=1&chn=&engTeach=N&moocs=N&remoteCourse=N&digital=N&adsl=N&deptCode=HU71&zuDept=&classCode=&kind=&generalCore=&teacher=&serial_number=&course_code=&language=chinese&action=showGrid&start=0&limit=99999&page=1')\n",
    "\n",
    "print(courses1.List[0])"
   ]
  },
  {
   "cell_type": "code",
   "execution_count": 12,
   "metadata": {},
   "outputs": [
    {
     "name": "stdout",
     "output_type": "stream",
     "text": [
      "['ITU0017', 'ITU1008', 'ITC9004', 'ITC9005', 'ITC9012', 'ITU0010', 'ITU0005', 'ITU0165', 'ITU1004', 'ITU0008', 'ITU0028', 'ITU0001', 'ITU0002', 'ITU0129', 'ITU1001', 'ITU1028', 'ITU2004', 'ITU2012', 'ITU2078', 'ITU0127', 'ITU0051', 'ITU0164', 'ITU2053', 'ITU2057', 'ITU2075', 'ITU2077', 'ITU2080', 'ITUE210', 'ITU0039', 'ITU0140', 'ITU0156', 'ITU0156', 'ITU0156', 'ITU0156', 'ITU0156', 'ITU2060']\n",
      "['ITU0164', 'ITU1008', 'ITC9007', 'ITC9010', 'ITU0010', '00UP001', 'ITU0005', 'ITU0165', 'ITU1004', '00UP001', 'ITU0008', 'ITU0028', 'ITU0002', 'ITU0127', 'ITU1001', 'ITU1028', 'ITU2004', 'ITU2012', 'ITU2078', 'ITU2073', 'ITU0051', 'ITU2053', 'ITU2057', 'ITU2075', 'ITU2077', 'ITU2080', 'ITUE210', 'ITU0039', 'ITU0140', 'ITU0154', 'ITU0156', 'ITU0156', 'ITU0156', 'ITU0156', 'ITU0156', 'ITU2005']\n"
     ]
    }
   ],
   "source": [
    "courses1List=[]\n",
    "\n",
    "for i in courses1.List:\n",
    "\tcourses1List.append(i['course_code'])\n",
    "print(courses1List)\n",
    "\n",
    "courses2List=[]\n",
    "\n",
    "for i in courses2.List:\n",
    "\tcourses2List.append(i['course_code'])\n",
    "print(courses2List)"
   ]
  },
  {
   "cell_type": "code",
   "execution_count": 13,
   "metadata": {},
   "outputs": [
    {
     "data": {
      "text/plain": [
       "{'ITC9004', 'ITC9005', 'ITC9012', 'ITU0001', 'ITU0017', 'ITU0129', 'ITU2060'}"
      ]
     },
     "execution_count": 13,
     "metadata": {},
     "output_type": "execute_result"
    }
   ],
   "source": [
    "set(courses1List).difference(set(courses2List))"
   ]
  },
  {
   "cell_type": "code",
   "execution_count": 14,
   "metadata": {},
   "outputs": [
    {
     "data": {
      "text/plain": [
       "{'ITU0002',\n",
       " 'ITU0005',\n",
       " 'ITU0008',\n",
       " 'ITU0010',\n",
       " 'ITU0028',\n",
       " 'ITU0039',\n",
       " 'ITU0051',\n",
       " 'ITU0127',\n",
       " 'ITU0140',\n",
       " 'ITU0156',\n",
       " 'ITU0164',\n",
       " 'ITU0165',\n",
       " 'ITU1001',\n",
       " 'ITU1004',\n",
       " 'ITU1008',\n",
       " 'ITU1028',\n",
       " 'ITU2004',\n",
       " 'ITU2012',\n",
       " 'ITU2053',\n",
       " 'ITU2057',\n",
       " 'ITU2075',\n",
       " 'ITU2077',\n",
       " 'ITU2078',\n",
       " 'ITU2080',\n",
       " 'ITUE210'}"
      ]
     },
     "execution_count": 14,
     "metadata": {},
     "output_type": "execute_result"
    }
   ],
   "source": [
    "set(courses1List).intersection(set(courses2List))"
   ]
  },
  {
   "cell_type": "code",
   "execution_count": 15,
   "metadata": {},
   "outputs": [
    {
     "data": {
      "text/plain": [
       "{'00UP001',\n",
       " 'ITC9004',\n",
       " 'ITC9005',\n",
       " 'ITC9007',\n",
       " 'ITC9010',\n",
       " 'ITC9012',\n",
       " 'ITU0001',\n",
       " 'ITU0002',\n",
       " 'ITU0005',\n",
       " 'ITU0008',\n",
       " 'ITU0010',\n",
       " 'ITU0017',\n",
       " 'ITU0028',\n",
       " 'ITU0039',\n",
       " 'ITU0051',\n",
       " 'ITU0127',\n",
       " 'ITU0129',\n",
       " 'ITU0140',\n",
       " 'ITU0154',\n",
       " 'ITU0156',\n",
       " 'ITU0164',\n",
       " 'ITU0165',\n",
       " 'ITU1001',\n",
       " 'ITU1004',\n",
       " 'ITU1008',\n",
       " 'ITU1028',\n",
       " 'ITU2004',\n",
       " 'ITU2005',\n",
       " 'ITU2012',\n",
       " 'ITU2053',\n",
       " 'ITU2057',\n",
       " 'ITU2060',\n",
       " 'ITU2073',\n",
       " 'ITU2075',\n",
       " 'ITU2077',\n",
       " 'ITU2078',\n",
       " 'ITU2080',\n",
       " 'ITUE210'}"
      ]
     },
     "execution_count": 15,
     "metadata": {},
     "output_type": "execute_result"
    }
   ],
   "source": [
    "set(courses1List).union(set(courses2List))"
   ]
  },
  {
   "cell_type": "code",
   "execution_count": 16,
   "metadata": {},
   "outputs": [
    {
     "data": {
      "text/plain": [
       "{'00UP001',\n",
       " 'ITC9004',\n",
       " 'ITC9005',\n",
       " 'ITC9007',\n",
       " 'ITC9010',\n",
       " 'ITC9012',\n",
       " 'ITU0001',\n",
       " 'ITU0017',\n",
       " 'ITU0129',\n",
       " 'ITU0154',\n",
       " 'ITU2005',\n",
       " 'ITU2060',\n",
       " 'ITU2073'}"
      ]
     },
     "execution_count": 16,
     "metadata": {},
     "output_type": "execute_result"
    }
   ],
   "source": [
    "set(courses1List).symmetric_difference(set(courses2List))"
   ]
  }
 ],
 "metadata": {
  "kernelspec": {
   "display_name": "Python 3.9.12 ('base')",
   "language": "python",
   "name": "python3"
  },
  "language_info": {
   "codemirror_mode": {
    "name": "ipython",
    "version": 3
   },
   "file_extension": ".py",
   "mimetype": "text/x-python",
   "name": "python",
   "nbconvert_exporter": "python",
   "pygments_lexer": "ipython3",
   "version": "3.9.12"
  },
  "orig_nbformat": 4,
  "vscode": {
   "interpreter": {
    "hash": "263930470851f494f0ed2879c35b57985588df20f9e529b86e97dd5eb9ddc466"
   }
  }
 },
 "nbformat": 4,
 "nbformat_minor": 2
}
