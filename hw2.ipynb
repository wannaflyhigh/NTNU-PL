{
 "cells": [
  {
   "cell_type": "code",
   "execution_count": 4,
   "metadata": {},
   "outputs": [
    {
     "data": {
      "text/plain": [
       "dict"
      ]
     },
     "execution_count": 4,
     "metadata": {},
     "output_type": "execute_result"
    }
   ],
   "source": [
    "# 適合裝進dict?\n",
    "# 學生們，每個學生包含姓名及學號\n",
    "\n",
    "import json\n",
    "\n",
    "test=open('./students.json',encoding=\"utf8\")\n",
    "data=json.load(test)\n",
    "type(data)"
   ]
  },
  {
   "cell_type": "code",
   "execution_count": 5,
   "metadata": {},
   "outputs": [
    {
     "name": "stdout",
     "output_type": "stream",
     "text": [
      "{'students': [{'name': '卓育霆', 'id': '40871215H'}, {'name': '杜伊凱', 'id': '40871117H'}, {'name': '張淳涵', 'id': '40971225H'}, {'name': '戴子棋', 'id': '40971229H'}, {'name': '吳沛龍', 'id': '60971037H'}, {'name': '李招蓁', 'id': '40971203H'}]}\n"
     ]
    }
   ],
   "source": [
    "print(data)"
   ]
  },
  {
   "cell_type": "code",
   "execution_count": 9,
   "metadata": {},
   "outputs": [
    {
     "name": "stdout",
     "output_type": "stream",
     "text": [
      "戴子棋的學號為40971229H\n"
     ]
    }
   ],
   "source": [
    "# 有名字找id\n",
    "\n",
    "nameToFind='戴子棋'\n",
    "students=data[\"students\"]\n",
    "for student in students:\n",
    "\tif student['name']==nameToFind:\n",
    "\t\tprint(nameToFind+'的學號為'+student['id'])\n",
    "\t\tbreak"
   ]
  },
  {
   "cell_type": "code",
   "execution_count": 11,
   "metadata": {},
   "outputs": [
    {
     "name": "stdout",
     "output_type": "stream",
     "text": [
      "['40871215H', '40871117H', '40971225H', '40971229H', '60971037H', '40971203H']\n"
     ]
    }
   ],
   "source": [
    "# sort by id\n",
    "\n",
    "ids=[]\n",
    "\n",
    "for student in students:\n",
    "\tids.append(student['id'])\n",
    "print(ids)"
   ]
  },
  {
   "cell_type": "code",
   "execution_count": 13,
   "metadata": {},
   "outputs": [
    {
     "name": "stdout",
     "output_type": "stream",
     "text": [
      "['40871117H', '40871215H', '40971203H', '40971225H', '40971229H', '60971037H']\n"
     ]
    }
   ],
   "source": [
    "ids.sort()\n",
    "print(ids)"
   ]
  }
 ],
 "metadata": {
  "kernelspec": {
   "display_name": "Python 3.10.2 64-bit",
   "language": "python",
   "name": "python3"
  },
  "language_info": {
   "codemirror_mode": {
    "name": "ipython",
    "version": 3
   },
   "file_extension": ".py",
   "mimetype": "text/x-python",
   "name": "python",
   "nbconvert_exporter": "python",
   "pygments_lexer": "ipython3",
   "version": "3.10.2"
  },
  "orig_nbformat": 4,
  "vscode": {
   "interpreter": {
    "hash": "df95319d8ce4e1d89f5365ae10992bc1f65da593082b1d264e8f529830ec2f02"
   }
  }
 },
 "nbformat": 4,
 "nbformat_minor": 2
}
