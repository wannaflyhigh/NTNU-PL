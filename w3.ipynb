{
 "cells": [
  {
   "cell_type": "code",
   "execution_count": 2,
   "metadata": {},
   "outputs": [
    {
     "name": "stdout",
     "output_type": "stream",
     "text": [
      "0     {'acadm_term': '1', 'acadm_year': '111', 'auth...\n",
      "1     {'acadm_term': '1', 'acadm_year': '111', 'auth...\n",
      "2     {'acadm_term': '1', 'acadm_year': '111', 'auth...\n",
      "3     {'acadm_term': '1', 'acadm_year': '111', 'auth...\n",
      "4     {'acadm_term': '1', 'acadm_year': '111', 'auth...\n",
      "5     {'acadm_term': '1', 'acadm_year': '111', 'auth...\n",
      "6     {'acadm_term': '1', 'acadm_year': '111', 'auth...\n",
      "7     {'acadm_term': '1', 'acadm_year': '111', 'auth...\n",
      "8     {'acadm_term': '1', 'acadm_year': '111', 'auth...\n",
      "9     {'acadm_term': '1', 'acadm_year': '111', 'auth...\n",
      "10    {'acadm_term': '1', 'acadm_year': '111', 'auth...\n",
      "11    {'acadm_term': '1', 'acadm_year': '111', 'auth...\n",
      "12    {'acadm_term': '1', 'acadm_year': '111', 'auth...\n",
      "13    {'acadm_term': '1', 'acadm_year': '111', 'auth...\n",
      "14    {'acadm_term': '1', 'acadm_year': '111', 'auth...\n",
      "15    {'acadm_term': '1', 'acadm_year': '111', 'auth...\n",
      "16    {'acadm_term': '1', 'acadm_year': '111', 'auth...\n",
      "17    {'acadm_term': '1', 'acadm_year': '111', 'auth...\n",
      "18    {'acadm_term': '1', 'acadm_year': '111', 'auth...\n",
      "19    {'acadm_term': '1', 'acadm_year': '111', 'auth...\n",
      "20    {'acadm_term': '1', 'acadm_year': '111', 'auth...\n",
      "21    {'acadm_term': '1', 'acadm_year': '111', 'auth...\n",
      "22    {'acadm_term': '1', 'acadm_year': '111', 'auth...\n",
      "23    {'acadm_term': '1', 'acadm_year': '111', 'auth...\n",
      "24    {'acadm_term': '1', 'acadm_year': '111', 'auth...\n",
      "25    {'acadm_term': '1', 'acadm_year': '111', 'auth...\n",
      "26    {'acadm_term': '1', 'acadm_year': '111', 'auth...\n",
      "27    {'acadm_term': '1', 'acadm_year': '111', 'auth...\n",
      "28    {'acadm_term': '1', 'acadm_year': '111', 'auth...\n",
      "29    {'acadm_term': '1', 'acadm_year': '111', 'auth...\n",
      "30    {'acadm_term': '1', 'acadm_year': '111', 'auth...\n",
      "31    {'acadm_term': '1', 'acadm_year': '111', 'auth...\n",
      "32    {'acadm_term': '1', 'acadm_year': '111', 'auth...\n",
      "33    {'acadm_term': '1', 'acadm_year': '111', 'auth...\n",
      "34    {'acadm_term': '1', 'acadm_year': '111', 'auth...\n",
      "35    {'acadm_term': '1', 'acadm_year': '111', 'auth...\n",
      "Name: List, dtype: object\n"
     ]
    }
   ],
   "source": [
    "import pandas as pd\n",
    "\n",
    "courses=pd.read_json('https://courseap2.itc.ntnu.edu.tw/acadmOpenCourse/CofopdlCtrl?_dc=1664349523426&acadmYear=111&acadmTerm=1&chn=&engTeach=N&moocs=N&remoteCourse=N&digital=N&adsl=N&deptCode=HU71&zuDept=&classCode=&kind=&generalCore=&teacher=&serial_number=&course_code=&language=chinese&action=showGrid&start=0&limit=99999&page=1')\n",
    "\n",
    "print(courses.List)"
   ]
  },
  {
   "cell_type": "code",
   "execution_count": 6,
   "metadata": {},
   "outputs": [
    {
     "name": "stdout",
     "output_type": "stream",
     "text": [
      "(1, 2, 3)\n",
      "<class 'tuple'>\n"
     ]
    }
   ],
   "source": [
    "def a(*b):\n",
    "\tprint(b)\n",
    "\tprint(type(b))\n",
    "a(*[1,2,3])\n",
    "\n",
    "# figure out another strange obj\n",
    "# list, array, tuple such many types\n",
    "# why not like js only with array and json obj"
   ]
  }
 ],
 "metadata": {
  "kernelspec": {
   "display_name": "Python 3.10.2 64-bit",
   "language": "python",
   "name": "python3"
  },
  "language_info": {
   "codemirror_mode": {
    "name": "ipython",
    "version": 3
   },
   "file_extension": ".py",
   "mimetype": "text/x-python",
   "name": "python",
   "nbconvert_exporter": "python",
   "pygments_lexer": "ipython3",
   "version": "3.10.2"
  },
  "orig_nbformat": 4,
  "vscode": {
   "interpreter": {
    "hash": "df95319d8ce4e1d89f5365ae10992bc1f65da593082b1d264e8f529830ec2f02"
   }
  }
 },
 "nbformat": 4,
 "nbformat_minor": 2
}
